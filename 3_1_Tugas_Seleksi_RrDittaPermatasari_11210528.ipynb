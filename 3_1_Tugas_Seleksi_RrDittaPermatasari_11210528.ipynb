{
 "cells": [
  {
   "cell_type": "code",
   "execution_count": 2,
   "id": "37b7baf5",
   "metadata": {},
   "outputs": [
    {
     "name": "stdout",
     "output_type": "stream",
     "text": [
      "Nilai i kurang dari 7\n",
      "Nilai i kurang dari 7 dan kurang dari 3\n"
     ]
    }
   ],
   "source": [
    "i=2\n",
    "if (i<7):\n",
    "    print (\"Nilai i kurang dari 7\")\n",
    "    if (i<3):\n",
    "        print (\"Nilai i kurang dari 7 dan kurang dari 3\")\n",
    "    else:\n",
    "        print (\"Nilai i kurang dari 7 tapi kurang dari 3\")"
   ]
  },
  {
   "cell_type": "code",
   "execution_count": null,
   "id": "268db2ab",
   "metadata": {},
   "outputs": [],
   "source": []
  }
 ],
 "metadata": {
  "kernelspec": {
   "display_name": "Python 3 (ipykernel)",
   "language": "python",
   "name": "python3"
  },
  "language_info": {
   "codemirror_mode": {
    "name": "ipython",
    "version": 3
   },
   "file_extension": ".py",
   "mimetype": "text/x-python",
   "name": "python",
   "nbconvert_exporter": "python",
   "pygments_lexer": "ipython3",
   "version": "3.8.3"
  }
 },
 "nbformat": 4,
 "nbformat_minor": 5
}
